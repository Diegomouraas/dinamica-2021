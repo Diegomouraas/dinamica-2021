{
 "cells": [
  {
   "cell_type": "code",
   "execution_count": 2,
   "id": "69f970d2",
   "metadata": {},
   "outputs": [],
   "source": [
    "import sympy as sy\n",
    "import sympy.physics.mechanics as me"
   ]
  },
  {
   "cell_type": "code",
   "execution_count": 3,
   "id": "2804aca7",
   "metadata": {},
   "outputs": [],
   "source": [
    "theta = me.dynamicsymbols('theta')\n",
    "gamma = me.dynamicsymbols('gamma')\n",
    "alpha = me.dynamicsymbols('alpha')\n",
    "H = sy.symbols('H')\n",
    "rE = sy.symbols('rE')\n",
    "rJ = sy.symbols('rJ')\n",
    "l = sy.symbols('l')\n",
    "d = sy.symbols('d')\n",
    "h = me.dynamicsymbols('h')\n",
    "t = me.dynamicsymbols._t"
   ]
  },
  {
   "cell_type": "code",
   "execution_count": 4,
   "id": "d05bf100",
   "metadata": {},
   "outputs": [],
   "source": [
    "N = me.ReferenceFrame('N')\n",
    "A = me.ReferenceFrame('A')\n",
    "B = me.ReferenceFrame('B')\n",
    "C = me.ReferenceFrame('C')"
   ]
  },
  {
   "cell_type": "code",
   "execution_count": 5,
   "id": "a242abb8",
   "metadata": {},
   "outputs": [],
   "source": [
    "A.orient(N, 'Axis', [gamma, N.z])\n",
    "B.orient(A, 'Axis', [theta, A.y])\n",
    "C.orient(B, 'Axis', [alpha, B.y])"
   ]
  },
  {
   "cell_type": "code",
   "execution_count": 6,
   "id": "4fbbbc9c",
   "metadata": {},
   "outputs": [],
   "source": [
    "O = me.Point('O')\n",
    "O.set_vel(N, 0)"
   ]
  },
  {
   "cell_type": "code",
   "execution_count": 7,
   "id": "217785e3",
   "metadata": {},
   "outputs": [],
   "source": [
    "E = me.Point('E')\n",
    "Q = me.Point('Q')\n",
    "\n",
    "pD1O = H*A.z\n",
    "pD2D1 = d*A.x\n",
    "pED2 = -rE*B.z\n",
    "\n",
    "pJD2 = -rJ*B.z\n",
    "pQJ = -l*C.x\n",
    "\n",
    "pEO = pD1O + pD2D1 + pED2\n",
    "pQO = pD1O + pD2D1 + pJD2 + pQJ\n",
    "\n",
    "E.set_pos(O, pEO)\n",
    "Q.set_pos(O, pQJ)"
   ]
  },
  {
   "cell_type": "code",
   "execution_count": 8,
   "id": "0722cc63",
   "metadata": {},
   "outputs": [
    {
     "data": {
      "text/latex": [
       "$\\displaystyle d\\mathbf{\\hat{a}_x} + H\\mathbf{\\hat{a}_z} -  rE\\mathbf{\\hat{b}_z}$"
      ],
      "text/plain": [
       "d*A.x + H*A.z - rE*B.z"
      ]
     },
     "execution_count": 8,
     "metadata": {},
     "output_type": "execute_result"
    }
   ],
   "source": [
    "E.pos_from(O)"
   ]
  },
  {
   "cell_type": "code",
   "execution_count": 9,
   "id": "ffb7cca0",
   "metadata": {},
   "outputs": [
    {
     "data": {
      "text/latex": [
       "$\\displaystyle -  l\\mathbf{\\hat{c}_x}$"
      ],
      "text/plain": [
       "- l*C.x"
      ]
     },
     "execution_count": 9,
     "metadata": {},
     "output_type": "execute_result"
    }
   ],
   "source": [
    "Q.pos_from(O)"
   ]
  },
  {
   "cell_type": "code",
   "execution_count": 10,
   "id": "4d658d97",
   "metadata": {},
   "outputs": [],
   "source": [
    "E.set_vel(N, pEO.dt(N))"
   ]
  },
  {
   "cell_type": "code",
   "execution_count": 20,
   "id": "ec38f98f",
   "metadata": {},
   "outputs": [
    {
     "data": {
      "text/latex": [
       "$\\displaystyle (d \\cos{\\left(\\gamma{\\left(t \\right)} \\right)} - rE \\sin{\\left(\\theta{\\left(t \\right)} \\right)} \\cos{\\left(\\gamma{\\left(t \\right)} \\right)})\\mathbf{\\hat{n}_x} + (d \\sin{\\left(\\gamma{\\left(t \\right)} \\right)} - rE \\sin{\\left(\\gamma{\\left(t \\right)} \\right)} \\sin{\\left(\\theta{\\left(t \\right)} \\right)})\\mathbf{\\hat{n}_y} + (H - rE \\cos{\\left(\\theta{\\left(t \\right)} \\right)})\\mathbf{\\hat{n}_z}$"
      ],
      "text/plain": [
       "(d*cos(gamma(t)) - rE*sin(theta(t))*cos(gamma(t)))*N.x + (d*sin(gamma(t)) - rE*sin(gamma(t))*sin(theta(t)))*N.y + (H - rE*cos(theta(t)))*N.z"
      ]
     },
     "execution_count": 20,
     "metadata": {},
     "output_type": "execute_result"
    }
   ],
   "source": [
    "pE = E.pos_from(O).express(N)\n",
    "pE"
   ]
  },
  {
   "cell_type": "code",
   "execution_count": 12,
   "id": "ede55885",
   "metadata": {},
   "outputs": [],
   "source": [
    "dic = {H:5, l:2, rE:3, d:1}\n",
    "import numpy as np"
   ]
  },
  {
   "cell_type": "code",
   "execution_count": 19,
   "id": "fadb1d48",
   "metadata": {},
   "outputs": [],
   "source": [
    "thetan = np.linspace(0, np.pi/2, 720)\n",
    "gamman = np.linspace(0, 2*np.pi, 720)\n",
    "pE_XZ = np.zeros(720)\n",
    "pE_XY = np.zeros(720)"
   ]
  },
  {
   "cell_type": "code",
   "execution_count": 50,
   "id": "d8087847",
   "metadata": {},
   "outputs": [
    {
     "data": {
      "text/plain": [
       "{N: N.x + 2*N.z}"
      ]
     },
     "execution_count": 50,
     "metadata": {},
     "output_type": "execute_result"
    }
   ],
   "source": [
    "pE = pE.subs(dic)\n",
    "pE = pE.subs(gamma, 0)\n",
    "pE = pE.subs(theta, 0)\n",
    "g = pE.separate()\n",
    "g"
   ]
  },
  {
   "cell_type": "code",
   "execution_count": 24,
   "id": "f0cc6fce",
   "metadata": {},
   "outputs": [
    {
     "ename": "TypeError",
     "evalue": "float() argument must be a string or a number, not 'Vector'",
     "output_type": "error",
     "traceback": [
      "\u001b[1;31m---------------------------------------------------------------------------\u001b[0m",
      "\u001b[1;31mTypeError\u001b[0m                                 Traceback (most recent call last)",
      "\u001b[1;32m<ipython-input-24-bb242333950d>\u001b[0m in \u001b[0;36m<module>\u001b[1;34m\u001b[0m\n\u001b[0;32m      1\u001b[0m \u001b[1;32mfor\u001b[0m \u001b[0mi\u001b[0m \u001b[1;32min\u001b[0m \u001b[0mrange\u001b[0m\u001b[1;33m(\u001b[0m\u001b[1;36m0\u001b[0m\u001b[1;33m,\u001b[0m \u001b[1;36m720\u001b[0m\u001b[1;33m)\u001b[0m\u001b[1;33m:\u001b[0m\u001b[1;33m\u001b[0m\u001b[1;33m\u001b[0m\u001b[0m\n\u001b[1;32m----> 2\u001b[1;33m     \u001b[0mpE_XZ\u001b[0m\u001b[1;33m[\u001b[0m\u001b[0mi\u001b[0m\u001b[1;33m]\u001b[0m \u001b[1;33m=\u001b[0m \u001b[0mpE\u001b[0m\u001b[1;33m.\u001b[0m\u001b[0msubs\u001b[0m\u001b[1;33m(\u001b[0m\u001b[0mtheta\u001b[0m\u001b[1;33m,\u001b[0m \u001b[0mthetan\u001b[0m\u001b[1;33m[\u001b[0m\u001b[0mi\u001b[0m\u001b[1;33m]\u001b[0m\u001b[1;33m)\u001b[0m\u001b[1;33m\u001b[0m\u001b[1;33m\u001b[0m\u001b[0m\n\u001b[0m",
      "\u001b[1;31mTypeError\u001b[0m: float() argument must be a string or a number, not 'Vector'"
     ]
    }
   ],
   "source": [
    "for i in range(0, 720):\n",
    "    pE_XZ[i] = pE.subs(theta, thetan[i])"
   ]
  },
  {
   "cell_type": "code",
   "execution_count": null,
   "id": "c4d9e22d",
   "metadata": {},
   "outputs": [],
   "source": []
  },
  {
   "cell_type": "code",
   "execution_count": 14,
   "id": "4dae3f35",
   "metadata": {},
   "outputs": [
    {
     "data": {
      "text/latex": [
       "$\\displaystyle (- d \\sin{\\left(\\gamma{\\left(t \\right)} \\right)} \\frac{d}{d t} \\gamma{\\left(t \\right)} + rE \\sin{\\left(\\gamma{\\left(t \\right)} \\right)} \\sin{\\left(\\theta{\\left(t \\right)} \\right)} \\frac{d}{d t} \\gamma{\\left(t \\right)} - rE \\cos{\\left(\\gamma{\\left(t \\right)} \\right)} \\cos{\\left(\\theta{\\left(t \\right)} \\right)} \\frac{d}{d t} \\theta{\\left(t \\right)})\\mathbf{\\hat{n}_x} + (d \\cos{\\left(\\gamma{\\left(t \\right)} \\right)} \\frac{d}{d t} \\gamma{\\left(t \\right)} - rE \\sin{\\left(\\gamma{\\left(t \\right)} \\right)} \\cos{\\left(\\theta{\\left(t \\right)} \\right)} \\frac{d}{d t} \\theta{\\left(t \\right)} - rE \\sin{\\left(\\theta{\\left(t \\right)} \\right)} \\cos{\\left(\\gamma{\\left(t \\right)} \\right)} \\frac{d}{d t} \\gamma{\\left(t \\right)})\\mathbf{\\hat{n}_y} + rE \\sin{\\left(\\theta{\\left(t \\right)} \\right)} \\frac{d}{d t} \\theta{\\left(t \\right)}\\mathbf{\\hat{n}_z}$"
      ],
      "text/plain": [
       "(-d*sin(gamma(t))*Derivative(gamma(t), t) + rE*sin(gamma(t))*sin(theta(t))*Derivative(gamma(t), t) - rE*cos(gamma(t))*cos(theta(t))*Derivative(theta(t), t))*N.x + (d*cos(gamma(t))*Derivative(gamma(t), t) - rE*sin(gamma(t))*cos(theta(t))*Derivative(theta(t), t) - rE*sin(theta(t))*cos(gamma(t))*Derivative(gamma(t), t))*N.y + rE*sin(theta(t))*Derivative(theta(t), t)*N.z"
      ]
     },
     "execution_count": 14,
     "metadata": {},
     "output_type": "execute_result"
    }
   ],
   "source": [
    "V = E.vel(N).express(N)\n",
    "V"
   ]
  },
  {
   "cell_type": "code",
   "execution_count": 15,
   "id": "e0458656",
   "metadata": {},
   "outputs": [
    {
     "data": {
      "text/latex": [
       "$\\displaystyle (- d \\sin{\\left(\\gamma{\\left(t \\right)} \\right)} \\frac{d^{2}}{d t^{2}} \\gamma{\\left(t \\right)} - d \\cos{\\left(\\gamma{\\left(t \\right)} \\right)} \\left(\\frac{d}{d t} \\gamma{\\left(t \\right)}\\right)^{2} - \\left(- rE \\sin{\\left(\\theta{\\left(t \\right)} \\right)} \\frac{d^{2}}{d t^{2}} \\gamma{\\left(t \\right)} - 2 rE \\cos{\\left(\\theta{\\left(t \\right)} \\right)} \\frac{d}{d t} \\gamma{\\left(t \\right)} \\frac{d}{d t} \\theta{\\left(t \\right)}\\right) \\sin{\\left(\\gamma{\\left(t \\right)} \\right)} + \\left(rE \\sin^{2}{\\left(\\theta{\\left(t \\right)} \\right)} \\left(\\frac{d}{d t} \\gamma{\\left(t \\right)}\\right)^{2} + rE \\left(\\frac{d}{d t} \\theta{\\left(t \\right)}\\right)^{2}\\right) \\sin{\\left(\\theta{\\left(t \\right)} \\right)} \\cos{\\left(\\gamma{\\left(t \\right)} \\right)} + \\left(rE \\sin{\\left(\\theta{\\left(t \\right)} \\right)} \\cos{\\left(\\theta{\\left(t \\right)} \\right)} \\left(\\frac{d}{d t} \\gamma{\\left(t \\right)}\\right)^{2} - rE \\frac{d^{2}}{d t^{2}} \\theta{\\left(t \\right)}\\right) \\cos{\\left(\\gamma{\\left(t \\right)} \\right)} \\cos{\\left(\\theta{\\left(t \\right)} \\right)})\\mathbf{\\hat{n}_x} + (- d \\sin{\\left(\\gamma{\\left(t \\right)} \\right)} \\left(\\frac{d}{d t} \\gamma{\\left(t \\right)}\\right)^{2} + d \\cos{\\left(\\gamma{\\left(t \\right)} \\right)} \\frac{d^{2}}{d t^{2}} \\gamma{\\left(t \\right)} + \\left(- rE \\sin{\\left(\\theta{\\left(t \\right)} \\right)} \\frac{d^{2}}{d t^{2}} \\gamma{\\left(t \\right)} - 2 rE \\cos{\\left(\\theta{\\left(t \\right)} \\right)} \\frac{d}{d t} \\gamma{\\left(t \\right)} \\frac{d}{d t} \\theta{\\left(t \\right)}\\right) \\cos{\\left(\\gamma{\\left(t \\right)} \\right)} + \\left(rE \\sin^{2}{\\left(\\theta{\\left(t \\right)} \\right)} \\left(\\frac{d}{d t} \\gamma{\\left(t \\right)}\\right)^{2} + rE \\left(\\frac{d}{d t} \\theta{\\left(t \\right)}\\right)^{2}\\right) \\sin{\\left(\\gamma{\\left(t \\right)} \\right)} \\sin{\\left(\\theta{\\left(t \\right)} \\right)} + \\left(rE \\sin{\\left(\\theta{\\left(t \\right)} \\right)} \\cos{\\left(\\theta{\\left(t \\right)} \\right)} \\left(\\frac{d}{d t} \\gamma{\\left(t \\right)}\\right)^{2} - rE \\frac{d^{2}}{d t^{2}} \\theta{\\left(t \\right)}\\right) \\sin{\\left(\\gamma{\\left(t \\right)} \\right)} \\cos{\\left(\\theta{\\left(t \\right)} \\right)})\\mathbf{\\hat{n}_y} + (\\left(rE \\sin^{2}{\\left(\\theta{\\left(t \\right)} \\right)} \\left(\\frac{d}{d t} \\gamma{\\left(t \\right)}\\right)^{2} + rE \\left(\\frac{d}{d t} \\theta{\\left(t \\right)}\\right)^{2}\\right) \\cos{\\left(\\theta{\\left(t \\right)} \\right)} - \\left(rE \\sin{\\left(\\theta{\\left(t \\right)} \\right)} \\cos{\\left(\\theta{\\left(t \\right)} \\right)} \\left(\\frac{d}{d t} \\gamma{\\left(t \\right)}\\right)^{2} - rE \\frac{d^{2}}{d t^{2}} \\theta{\\left(t \\right)}\\right) \\sin{\\left(\\theta{\\left(t \\right)} \\right)})\\mathbf{\\hat{n}_z}$"
      ],
      "text/plain": [
       "(-d*sin(gamma(t))*Derivative(gamma(t), (t, 2)) - d*cos(gamma(t))*Derivative(gamma(t), t)**2 - (-rE*sin(theta(t))*Derivative(gamma(t), (t, 2)) - 2*rE*cos(theta(t))*Derivative(gamma(t), t)*Derivative(theta(t), t))*sin(gamma(t)) + (rE*sin(theta(t))**2*Derivative(gamma(t), t)**2 + rE*Derivative(theta(t), t)**2)*sin(theta(t))*cos(gamma(t)) + (rE*sin(theta(t))*cos(theta(t))*Derivative(gamma(t), t)**2 - rE*Derivative(theta(t), (t, 2)))*cos(gamma(t))*cos(theta(t)))*N.x + (-d*sin(gamma(t))*Derivative(gamma(t), t)**2 + d*cos(gamma(t))*Derivative(gamma(t), (t, 2)) + (-rE*sin(theta(t))*Derivative(gamma(t), (t, 2)) - 2*rE*cos(theta(t))*Derivative(gamma(t), t)*Derivative(theta(t), t))*cos(gamma(t)) + (rE*sin(theta(t))**2*Derivative(gamma(t), t)**2 + rE*Derivative(theta(t), t)**2)*sin(gamma(t))*sin(theta(t)) + (rE*sin(theta(t))*cos(theta(t))*Derivative(gamma(t), t)**2 - rE*Derivative(theta(t), (t, 2)))*sin(gamma(t))*cos(theta(t)))*N.y + ((rE*sin(theta(t))**2*Derivative(gamma(t), t)**2 + rE*Derivative(theta(t), t)**2)*cos(theta(t)) - (rE*sin(theta(t))*cos(theta(t))*Derivative(gamma(t), t)**2 - rE*Derivative(theta(t), (t, 2)))*sin(theta(t)))*N.z"
      ]
     },
     "execution_count": 15,
     "metadata": {},
     "output_type": "execute_result"
    }
   ],
   "source": [
    "a = E.acc(N).express(N)\n",
    "a"
   ]
  },
  {
   "cell_type": "code",
   "execution_count": null,
   "id": "609524f3",
   "metadata": {},
   "outputs": [],
   "source": []
  },
  {
   "cell_type": "code",
   "execution_count": 16,
   "id": "fc9992e7",
   "metadata": {},
   "outputs": [
    {
     "data": {
      "text/latex": [
       "$\\displaystyle (- 3.0 \\sin{\\left(\\theta{\\left(0 \\right)} \\right)} \\cos{\\left(\\gamma{\\left(0 \\right)} \\right)} + \\cos{\\left(\\gamma{\\left(0 \\right)} \\right)})\\mathbf{\\hat{n}_x} + (- 3.0 \\sin{\\left(\\gamma{\\left(0 \\right)} \\right)} \\sin{\\left(\\theta{\\left(0 \\right)} \\right)} + \\sin{\\left(\\gamma{\\left(0 \\right)} \\right)})\\mathbf{\\hat{n}_y} + (5.0 - 3.0 \\cos{\\left(\\theta{\\left(0 \\right)} \\right)})\\mathbf{\\hat{n}_z}$"
      ],
      "text/plain": [
       "(-3.0*sin(theta(0))*cos(gamma(0)) + cos(gamma(0)))*N.x + (-3.0*sin(gamma(0))*sin(theta(0)) + sin(gamma(0)))*N.y + (5.0 - 3.0*cos(theta(0)))*N.z"
      ]
     },
     "execution_count": 16,
     "metadata": {},
     "output_type": "execute_result"
    }
   ],
   "source": [
    "P = P.subs(dic)\n",
    "P = P.subs(t, 0)\n",
    "P.evalf()"
   ]
  },
  {
   "cell_type": "code",
   "execution_count": 17,
   "id": "adfa91e3",
   "metadata": {},
   "outputs": [],
   "source": [
    "from sympy.plotting import plot"
   ]
  },
  {
   "cell_type": "code",
   "execution_count": 18,
   "id": "6958fc3f",
   "metadata": {},
   "outputs": [
    {
     "name": "stderr",
     "output_type": "stream",
     "text": [
      "C:\\Users\\Diego Moura\\anaconda3\\lib\\site-packages\\sympy\\core\\sympify.py:456: SymPyDeprecationWarning: \n",
      "\n",
      "String fallback in sympify has been deprecated since SymPy 1.6. Use\n",
      "sympify(str(obj)) or sympy.core.sympify.converter or obj._sympy_\n",
      "instead. See https://github.com/sympy/sympy/issues/18066 for more\n",
      "info.\n",
      "\n",
      "  SymPyDeprecationWarning(\n"
     ]
    },
    {
     "ename": "AttributeError",
     "evalue": "'function' object has no attribute 'x'",
     "output_type": "error",
     "traceback": [
      "\u001b[1;31m---------------------------------------------------------------------------\u001b[0m",
      "\u001b[1;31mValueError\u001b[0m                                Traceback (most recent call last)",
      "\u001b[1;31mValueError\u001b[0m: Error from parse_expr with transformed code: \"(-Integer (3 )*sin (Function ('theta' )(Integer (0 )))*cos (gamma (Integer (0 )))+cos (gamma (Integer (0 ))))*N .x +(-Integer (3 )*sin (gamma (Integer (0 )))*sin (Function ('theta' )(Integer (0 )))+sin (gamma (Integer (0 ))))*N .y +(Integer (5 )-Integer (3 )*cos (Function ('theta' )(Integer (0 ))))*N .z \"",
      "\nThe above exception was the direct cause of the following exception:\n",
      "\u001b[1;31mAttributeError\u001b[0m                            Traceback (most recent call last)",
      "\u001b[1;32m<ipython-input-18-0f62f8bb93d7>\u001b[0m in \u001b[0;36m<module>\u001b[1;34m\u001b[0m\n\u001b[1;32m----> 1\u001b[1;33m \u001b[0mplot\u001b[0m \u001b[1;33m=\u001b[0m \u001b[0mplot\u001b[0m\u001b[1;33m(\u001b[0m\u001b[0mP\u001b[0m\u001b[1;33m,\u001b[0m \u001b[1;33m(\u001b[0m\u001b[0mtheta\u001b[0m\u001b[1;33m,\u001b[0m \u001b[1;36m0\u001b[0m\u001b[1;33m,\u001b[0m \u001b[1;36m25\u001b[0m\u001b[1;33m)\u001b[0m\u001b[1;33m,\u001b[0m \u001b[1;33m(\u001b[0m\u001b[0mgamma\u001b[0m\u001b[1;33m,\u001b[0m \u001b[1;36m0\u001b[0m\u001b[1;33m,\u001b[0m \u001b[1;36m25\u001b[0m\u001b[1;33m)\u001b[0m\u001b[1;33m)\u001b[0m\u001b[1;33m\u001b[0m\u001b[1;33m\u001b[0m\u001b[0m\n\u001b[0m",
      "\u001b[1;32m~\\anaconda3\\lib\\site-packages\\sympy\\plotting\\plot.py\u001b[0m in \u001b[0;36mplot\u001b[1;34m(show, *args, **kwargs)\u001b[0m\n\u001b[0;32m   1720\u001b[0m \u001b[1;33m\u001b[0m\u001b[0m\n\u001b[0;32m   1721\u001b[0m     \"\"\"\n\u001b[1;32m-> 1722\u001b[1;33m     \u001b[0margs\u001b[0m \u001b[1;33m=\u001b[0m \u001b[0mlist\u001b[0m\u001b[1;33m(\u001b[0m\u001b[0mmap\u001b[0m\u001b[1;33m(\u001b[0m\u001b[0msympify\u001b[0m\u001b[1;33m,\u001b[0m \u001b[0margs\u001b[0m\u001b[1;33m)\u001b[0m\u001b[1;33m)\u001b[0m\u001b[1;33m\u001b[0m\u001b[1;33m\u001b[0m\u001b[0m\n\u001b[0m\u001b[0;32m   1723\u001b[0m     \u001b[0mfree\u001b[0m \u001b[1;33m=\u001b[0m \u001b[0mset\u001b[0m\u001b[1;33m(\u001b[0m\u001b[1;33m)\u001b[0m\u001b[1;33m\u001b[0m\u001b[1;33m\u001b[0m\u001b[0m\n\u001b[0;32m   1724\u001b[0m     \u001b[1;32mfor\u001b[0m \u001b[0ma\u001b[0m \u001b[1;32min\u001b[0m \u001b[0margs\u001b[0m\u001b[1;33m:\u001b[0m\u001b[1;33m\u001b[0m\u001b[1;33m\u001b[0m\u001b[0m\n",
      "\u001b[1;32m~\\anaconda3\\lib\\site-packages\\sympy\\core\\sympify.py\u001b[0m in \u001b[0;36msympify\u001b[1;34m(a, locals, convert_xor, strict, rational, evaluate)\u001b[0m\n\u001b[0;32m    477\u001b[0m     \u001b[1;32mtry\u001b[0m\u001b[1;33m:\u001b[0m\u001b[1;33m\u001b[0m\u001b[1;33m\u001b[0m\u001b[0m\n\u001b[0;32m    478\u001b[0m         \u001b[0ma\u001b[0m \u001b[1;33m=\u001b[0m \u001b[0ma\u001b[0m\u001b[1;33m.\u001b[0m\u001b[0mreplace\u001b[0m\u001b[1;33m(\u001b[0m\u001b[1;34m'\\n'\u001b[0m\u001b[1;33m,\u001b[0m \u001b[1;34m''\u001b[0m\u001b[1;33m)\u001b[0m\u001b[1;33m\u001b[0m\u001b[1;33m\u001b[0m\u001b[0m\n\u001b[1;32m--> 479\u001b[1;33m         \u001b[0mexpr\u001b[0m \u001b[1;33m=\u001b[0m \u001b[0mparse_expr\u001b[0m\u001b[1;33m(\u001b[0m\u001b[0ma\u001b[0m\u001b[1;33m,\u001b[0m \u001b[0mlocal_dict\u001b[0m\u001b[1;33m=\u001b[0m\u001b[0mlocals\u001b[0m\u001b[1;33m,\u001b[0m \u001b[0mtransformations\u001b[0m\u001b[1;33m=\u001b[0m\u001b[0mtransformations\u001b[0m\u001b[1;33m,\u001b[0m \u001b[0mevaluate\u001b[0m\u001b[1;33m=\u001b[0m\u001b[0mevaluate\u001b[0m\u001b[1;33m)\u001b[0m\u001b[1;33m\u001b[0m\u001b[1;33m\u001b[0m\u001b[0m\n\u001b[0m\u001b[0;32m    480\u001b[0m     \u001b[1;32mexcept\u001b[0m \u001b[1;33m(\u001b[0m\u001b[0mTokenError\u001b[0m\u001b[1;33m,\u001b[0m \u001b[0mSyntaxError\u001b[0m\u001b[1;33m)\u001b[0m \u001b[1;32mas\u001b[0m \u001b[0mexc\u001b[0m\u001b[1;33m:\u001b[0m\u001b[1;33m\u001b[0m\u001b[1;33m\u001b[0m\u001b[0m\n\u001b[0;32m    481\u001b[0m         \u001b[1;32mraise\u001b[0m \u001b[0mSympifyError\u001b[0m\u001b[1;33m(\u001b[0m\u001b[1;34m'could not parse %r'\u001b[0m \u001b[1;33m%\u001b[0m \u001b[0ma\u001b[0m\u001b[1;33m,\u001b[0m \u001b[0mexc\u001b[0m\u001b[1;33m)\u001b[0m\u001b[1;33m\u001b[0m\u001b[1;33m\u001b[0m\u001b[0m\n",
      "\u001b[1;32m~\\anaconda3\\lib\\site-packages\\sympy\\parsing\\sympy_parser.py\u001b[0m in \u001b[0;36mparse_expr\u001b[1;34m(s, local_dict, transformations, global_dict, evaluate)\u001b[0m\n\u001b[0;32m   1016\u001b[0m         \u001b[1;32mreturn\u001b[0m \u001b[0meval_expr\u001b[0m\u001b[1;33m(\u001b[0m\u001b[0mcode\u001b[0m\u001b[1;33m,\u001b[0m \u001b[0mlocal_dict\u001b[0m\u001b[1;33m,\u001b[0m \u001b[0mglobal_dict\u001b[0m\u001b[1;33m)\u001b[0m\u001b[1;33m\u001b[0m\u001b[1;33m\u001b[0m\u001b[0m\n\u001b[0;32m   1017\u001b[0m     \u001b[1;32mexcept\u001b[0m \u001b[0mException\u001b[0m \u001b[1;32mas\u001b[0m \u001b[0me\u001b[0m\u001b[1;33m:\u001b[0m\u001b[1;33m\u001b[0m\u001b[1;33m\u001b[0m\u001b[0m\n\u001b[1;32m-> 1018\u001b[1;33m         \u001b[1;32mraise\u001b[0m \u001b[0me\u001b[0m \u001b[1;32mfrom\u001b[0m \u001b[0mValueError\u001b[0m\u001b[1;33m(\u001b[0m\u001b[1;34mf\"Error from parse_expr with transformed code: {code!r}\"\u001b[0m\u001b[1;33m)\u001b[0m\u001b[1;33m\u001b[0m\u001b[1;33m\u001b[0m\u001b[0m\n\u001b[0m\u001b[0;32m   1019\u001b[0m \u001b[1;33m\u001b[0m\u001b[0m\n\u001b[0;32m   1020\u001b[0m \u001b[1;33m\u001b[0m\u001b[0m\n",
      "\u001b[1;32m~\\anaconda3\\lib\\site-packages\\sympy\\parsing\\sympy_parser.py\u001b[0m in \u001b[0;36mparse_expr\u001b[1;34m(s, local_dict, transformations, global_dict, evaluate)\u001b[0m\n\u001b[0;32m   1014\u001b[0m \u001b[1;33m\u001b[0m\u001b[0m\n\u001b[0;32m   1015\u001b[0m     \u001b[1;32mtry\u001b[0m\u001b[1;33m:\u001b[0m\u001b[1;33m\u001b[0m\u001b[1;33m\u001b[0m\u001b[0m\n\u001b[1;32m-> 1016\u001b[1;33m         \u001b[1;32mreturn\u001b[0m \u001b[0meval_expr\u001b[0m\u001b[1;33m(\u001b[0m\u001b[0mcode\u001b[0m\u001b[1;33m,\u001b[0m \u001b[0mlocal_dict\u001b[0m\u001b[1;33m,\u001b[0m \u001b[0mglobal_dict\u001b[0m\u001b[1;33m)\u001b[0m\u001b[1;33m\u001b[0m\u001b[1;33m\u001b[0m\u001b[0m\n\u001b[0m\u001b[0;32m   1017\u001b[0m     \u001b[1;32mexcept\u001b[0m \u001b[0mException\u001b[0m \u001b[1;32mas\u001b[0m \u001b[0me\u001b[0m\u001b[1;33m:\u001b[0m\u001b[1;33m\u001b[0m\u001b[1;33m\u001b[0m\u001b[0m\n\u001b[0;32m   1018\u001b[0m         \u001b[1;32mraise\u001b[0m \u001b[0me\u001b[0m \u001b[1;32mfrom\u001b[0m \u001b[0mValueError\u001b[0m\u001b[1;33m(\u001b[0m\u001b[1;34mf\"Error from parse_expr with transformed code: {code!r}\"\u001b[0m\u001b[1;33m)\u001b[0m\u001b[1;33m\u001b[0m\u001b[1;33m\u001b[0m\u001b[0m\n",
      "\u001b[1;32m~\\anaconda3\\lib\\site-packages\\sympy\\parsing\\sympy_parser.py\u001b[0m in \u001b[0;36meval_expr\u001b[1;34m(code, local_dict, global_dict)\u001b[0m\n\u001b[0;32m    908\u001b[0m     \u001b[0mGenerally\u001b[0m\u001b[1;33m,\u001b[0m\u001b[0;31m \u001b[0m\u001b[0;31m`\u001b[0m\u001b[0;31m`\u001b[0m\u001b[0mparse_expr\u001b[0m\u001b[0;31m`\u001b[0m\u001b[0;31m`\u001b[0m \u001b[0mshould\u001b[0m \u001b[0mbe\u001b[0m \u001b[0mused\u001b[0m\u001b[1;33m.\u001b[0m\u001b[1;33m\u001b[0m\u001b[1;33m\u001b[0m\u001b[0m\n\u001b[0;32m    909\u001b[0m     \"\"\"\n\u001b[1;32m--> 910\u001b[1;33m     expr = eval(\n\u001b[0m\u001b[0;32m    911\u001b[0m         code, global_dict, local_dict)  # take local objects in preference\n\u001b[0;32m    912\u001b[0m     \u001b[1;32mreturn\u001b[0m \u001b[0mexpr\u001b[0m\u001b[1;33m\u001b[0m\u001b[1;33m\u001b[0m\u001b[0m\n",
      "\u001b[1;32m<string>\u001b[0m in \u001b[0;36m<module>\u001b[1;34m\u001b[0m\n",
      "\u001b[1;31mAttributeError\u001b[0m: 'function' object has no attribute 'x'"
     ]
    }
   ],
   "source": [
    "plot = plot(P, (theta, 0, 25), (gamma, 0, 25))"
   ]
  },
  {
   "cell_type": "code",
   "execution_count": null,
   "id": "2dddd0c7",
   "metadata": {},
   "outputs": [],
   "source": []
  }
 ],
 "metadata": {
  "kernelspec": {
   "display_name": "Python 3",
   "language": "python",
   "name": "python3"
  },
  "language_info": {
   "codemirror_mode": {
    "name": "ipython",
    "version": 3
   },
   "file_extension": ".py",
   "mimetype": "text/x-python",
   "name": "python",
   "nbconvert_exporter": "python",
   "pygments_lexer": "ipython3",
   "version": "3.8.8"
  }
 },
 "nbformat": 4,
 "nbformat_minor": 5
}
