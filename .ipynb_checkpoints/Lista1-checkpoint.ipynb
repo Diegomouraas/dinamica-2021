{
 "cells": [
  {
   "cell_type": "markdown",
   "id": "20061a55",
   "metadata": {},
   "source": [
    "### Questão 1\n",
    "#### A)"
   ]
  },
  {
   "cell_type": "code",
   "execution_count": 16,
   "id": "792a5f97",
   "metadata": {},
   "outputs": [],
   "source": [
    "import sympy.physics.mechanics as me"
   ]
  },
  {
   "cell_type": "code",
   "execution_count": 17,
   "id": "546ef11a",
   "metadata": {},
   "outputs": [],
   "source": [
    "N = me.ReferenceFrame('N')"
   ]
  },
  {
   "cell_type": "code",
   "execution_count": 18,
   "id": "3e88d274",
   "metadata": {},
   "outputs": [
    {
     "data": {
      "text/latex": [
       "$\\displaystyle \\mathbf{\\hat{n}_x}$"
      ],
      "text/plain": [
       "N.x"
      ]
     },
     "execution_count": 18,
     "metadata": {},
     "output_type": "execute_result"
    }
   ],
   "source": [
    "N.x"
   ]
  },
  {
   "cell_type": "code",
   "execution_count": 19,
   "id": "a20a3a28",
   "metadata": {},
   "outputs": [
    {
     "data": {
      "text/latex": [
       "$\\displaystyle \\mathbf{\\hat{n}_y}$"
      ],
      "text/plain": [
       "N.y"
      ]
     },
     "execution_count": 19,
     "metadata": {},
     "output_type": "execute_result"
    }
   ],
   "source": [
    "N.y"
   ]
  },
  {
   "cell_type": "code",
   "execution_count": 20,
   "id": "3510fb79",
   "metadata": {},
   "outputs": [
    {
     "data": {
      "text/latex": [
       "$\\displaystyle \\mathbf{\\hat{n}_z}$"
      ],
      "text/plain": [
       "N.z"
      ]
     },
     "execution_count": 20,
     "metadata": {},
     "output_type": "execute_result"
    }
   ],
   "source": [
    "N.z"
   ]
  },
  {
   "cell_type": "code",
   "execution_count": 25,
   "id": "bb92a001",
   "metadata": {},
   "outputs": [],
   "source": [
    "a = 5*N.x + 7*N.y + 3*N.z\n",
    "b = 4*N.x - 3*N.y + 1*N.z"
   ]
  },
  {
   "cell_type": "code",
   "execution_count": 26,
   "id": "56bd0651",
   "metadata": {},
   "outputs": [
    {
     "data": {
      "text/latex": [
       "$\\displaystyle 9\\mathbf{\\hat{n}_x} + 4\\mathbf{\\hat{n}_y} + 4\\mathbf{\\hat{n}_z}$"
      ],
      "text/plain": [
       "9*N.x + 4*N.y + 4*N.z"
      ]
     },
     "execution_count": 26,
     "metadata": {},
     "output_type": "execute_result"
    }
   ],
   "source": [
    "a + b"
   ]
  },
  {
   "cell_type": "markdown",
   "id": "dab9acc9",
   "metadata": {},
   "source": [
    "#### b)"
   ]
  },
  {
   "cell_type": "markdown",
   "id": "87045138",
   "metadata": {},
   "source": [
    "Considerando os vetores anteriores.."
   ]
  },
  {
   "cell_type": "code",
   "execution_count": 28,
   "id": "5dc42af8",
   "metadata": {},
   "outputs": [
    {
     "data": {
      "text/latex": [
       "$\\displaystyle 2$"
      ],
      "text/plain": [
       "2"
      ]
     },
     "execution_count": 28,
     "metadata": {},
     "output_type": "execute_result"
    }
   ],
   "source": [
    "me.dot(a, b)"
   ]
  },
  {
   "cell_type": "markdown",
   "id": "2d081788",
   "metadata": {},
   "source": [
    "#### c)"
   ]
  },
  {
   "cell_type": "code",
   "execution_count": 29,
   "id": "f9bfccac",
   "metadata": {},
   "outputs": [
    {
     "data": {
      "text/latex": [
       "$\\displaystyle 16\\mathbf{\\hat{n}_x} + 7\\mathbf{\\hat{n}_y} - 43\\mathbf{\\hat{n}_z}$"
      ],
      "text/plain": [
       "16*N.x + 7*N.y - 43*N.z"
      ]
     },
     "execution_count": 29,
     "metadata": {},
     "output_type": "execute_result"
    }
   ],
   "source": [
    "me.cross(a, b)"
   ]
  },
  {
   "cell_type": "markdown",
   "id": "e26cc44e",
   "metadata": {},
   "source": [
    "#### d)"
   ]
  },
  {
   "cell_type": "code",
   "execution_count": 30,
   "id": "563a1fb5",
   "metadata": {},
   "outputs": [],
   "source": [
    "c = 11*N.x - 5*N.y - 3*N.z"
   ]
  },
  {
   "cell_type": "code",
   "execution_count": 31,
   "id": "f399c2c1",
   "metadata": {},
   "outputs": [
    {
     "data": {
      "text/latex": [
       "$\\displaystyle 22\\mathbf{\\hat{n}_x} - 23\\mathbf{\\hat{n}_y} + 17\\mathbf{\\hat{n}_z}$"
      ],
      "text/plain": [
       "22*N.x - 23*N.y + 17*N.z"
      ]
     },
     "execution_count": 31,
     "metadata": {},
     "output_type": "execute_result"
    }
   ],
   "source": [
    "a.cross(me.cross(b, c))"
   ]
  },
  {
   "cell_type": "markdown",
   "id": "2827def3",
   "metadata": {},
   "source": [
    "#### e)"
   ]
  },
  {
   "cell_type": "code",
   "execution_count": 32,
   "id": "c98bf375",
   "metadata": {},
   "outputs": [
    {
     "data": {
      "text/latex": [
       "$\\displaystyle 270$"
      ],
      "text/plain": [
       "270"
      ]
     },
     "execution_count": 32,
     "metadata": {},
     "output_type": "execute_result"
    }
   ],
   "source": [
    "a.dot(me.cross(b, c))"
   ]
  },
  {
   "cell_type": "markdown",
   "id": "86585288",
   "metadata": {},
   "source": [
    "f)"
   ]
  },
  {
   "cell_type": "code",
   "execution_count": 33,
   "id": "f72e75be",
   "metadata": {},
   "outputs": [
    {
     "data": {
      "text/latex": [
       "$\\displaystyle 12$"
      ],
      "text/plain": [
       "12"
      ]
     },
     "execution_count": 33,
     "metadata": {},
     "output_type": "execute_result"
    }
   ],
   "source": [
    "me.dot(2*a, 3*b)"
   ]
  },
  {
   "cell_type": "markdown",
   "id": "0bc53282",
   "metadata": {},
   "source": [
    "g)"
   ]
  },
  {
   "cell_type": "code",
   "execution_count": 34,
   "id": "a3b42188",
   "metadata": {},
   "outputs": [
    {
     "data": {
      "text/latex": [
       "$\\displaystyle 240\\mathbf{\\hat{n}_x} + 105\\mathbf{\\hat{n}_y} - 645\\mathbf{\\hat{n}_z}$"
      ],
      "text/plain": [
       "240*N.x + 105*N.y - 645*N.z"
      ]
     },
     "execution_count": 34,
     "metadata": {},
     "output_type": "execute_result"
    }
   ],
   "source": [
    "me.cross(3*a, 5*b)"
   ]
  },
  {
   "cell_type": "markdown",
   "id": "77157503",
   "metadata": {},
   "source": [
    "----------"
   ]
  },
  {
   "cell_type": "markdown",
   "id": "477c5fce",
   "metadata": {},
   "source": [
    "### Questão 2"
   ]
  },
  {
   "cell_type": "code",
   "execution_count": null,
   "id": "f23bb564",
   "metadata": {},
   "outputs": [],
   "source": []
  }
 ],
 "metadata": {
  "kernelspec": {
   "display_name": "Python 3",
   "language": "python",
   "name": "python3"
  },
  "language_info": {
   "codemirror_mode": {
    "name": "ipython",
    "version": 3
   },
   "file_extension": ".py",
   "mimetype": "text/x-python",
   "name": "python",
   "nbconvert_exporter": "python",
   "pygments_lexer": "ipython3",
   "version": "3.8.8"
  }
 },
 "nbformat": 4,
 "nbformat_minor": 5
}
