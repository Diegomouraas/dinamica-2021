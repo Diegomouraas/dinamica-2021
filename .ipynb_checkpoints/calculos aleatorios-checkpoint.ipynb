{
 "cells": [
  {
   "cell_type": "code",
   "execution_count": 1,
   "id": "8d21dc45",
   "metadata": {},
   "outputs": [],
   "source": [
    "import sympy as sy\n",
    "import sympy.physics.mechanics as me"
   ]
  },
  {
   "cell_type": "code",
   "execution_count": 3,
   "id": "0838776d",
   "metadata": {},
   "outputs": [],
   "source": [
    "theta = me.dynamicsymbols('theta')\n",
    "R = me.dynamicsymbols('R')"
   ]
  },
  {
   "cell_type": "code",
   "execution_count": 4,
   "id": "63c6b5b3",
   "metadata": {},
   "outputs": [],
   "source": [
    "N = me.ReferenceFrame('N')\n",
    "A = me.ReferenceFrame('A')"
   ]
  },
  {
   "cell_type": "code",
   "execution_count": 5,
   "id": "6e707c7d",
   "metadata": {},
   "outputs": [],
   "source": [
    "A.orient(N, 'Axis', [theta, N.z])"
   ]
  },
  {
   "cell_type": "code",
   "execution_count": 6,
   "id": "9b89029c",
   "metadata": {},
   "outputs": [],
   "source": [
    "O = me.Point('O')\n",
    "O.set_vel(N, 0)"
   ]
  },
  {
   "cell_type": "code",
   "execution_count": 7,
   "id": "6cb6208d",
   "metadata": {},
   "outputs": [],
   "source": [
    "P = me.Point('P')\n",
    "pPO = R*A.x\n",
    "P.set_pos(O, pPO)"
   ]
  },
  {
   "cell_type": "code",
   "execution_count": 8,
   "id": "d40c2c12",
   "metadata": {},
   "outputs": [
    {
     "data": {
      "text/latex": [
       "$\\displaystyle \\frac{d}{d t} R{\\left(t \\right)}\\mathbf{\\hat{a}_x} + R{\\left(t \\right)} \\frac{d}{d t} \\theta{\\left(t \\right)}\\mathbf{\\hat{a}_y}$"
      ],
      "text/plain": [
       "Derivative(R(t), t)*A.x + R(t)*Derivative(theta(t), t)*A.y"
      ]
     },
     "execution_count": 8,
     "metadata": {},
     "output_type": "execute_result"
    }
   ],
   "source": [
    "P.set_vel(N, pPO.dt(N))\n",
    "P.vel(N)"
   ]
  },
  {
   "cell_type": "code",
   "execution_count": 9,
   "id": "94bebe4f",
   "metadata": {},
   "outputs": [
    {
     "data": {
      "text/latex": [
       "$\\displaystyle (- R{\\left(t \\right)} \\left(\\frac{d}{d t} \\theta{\\left(t \\right)}\\right)^{2} + \\frac{d^{2}}{d t^{2}} R{\\left(t \\right)})\\mathbf{\\hat{a}_x} + (R{\\left(t \\right)} \\frac{d^{2}}{d t^{2}} \\theta{\\left(t \\right)} + 2 \\frac{d}{d t} R{\\left(t \\right)} \\frac{d}{d t} \\theta{\\left(t \\right)})\\mathbf{\\hat{a}_y}$"
      ],
      "text/plain": [
       "(-R(t)*Derivative(theta(t), t)**2 + Derivative(R(t), (t, 2)))*A.x + (R(t)*Derivative(theta(t), (t, 2)) + 2*Derivative(R(t), t)*Derivative(theta(t), t))*A.y"
      ]
     },
     "execution_count": 9,
     "metadata": {},
     "output_type": "execute_result"
    }
   ],
   "source": [
    "P.acc(N)"
   ]
  },
  {
   "cell_type": "code",
   "execution_count": 10,
   "id": "50335686",
   "metadata": {},
   "outputs": [
    {
     "data": {
      "text/latex": [
       "$\\displaystyle (\\left(- R{\\left(t \\right)} \\left(\\frac{d}{d t} \\theta{\\left(t \\right)}\\right)^{2} + \\frac{d^{2}}{d t^{2}} R{\\left(t \\right)}\\right) \\cos{\\left(\\theta{\\left(t \\right)} \\right)} - \\left(R{\\left(t \\right)} \\frac{d^{2}}{d t^{2}} \\theta{\\left(t \\right)} + 2 \\frac{d}{d t} R{\\left(t \\right)} \\frac{d}{d t} \\theta{\\left(t \\right)}\\right) \\sin{\\left(\\theta{\\left(t \\right)} \\right)})\\mathbf{\\hat{n}_x} + (\\left(- R{\\left(t \\right)} \\left(\\frac{d}{d t} \\theta{\\left(t \\right)}\\right)^{2} + \\frac{d^{2}}{d t^{2}} R{\\left(t \\right)}\\right) \\sin{\\left(\\theta{\\left(t \\right)} \\right)} + \\left(R{\\left(t \\right)} \\frac{d^{2}}{d t^{2}} \\theta{\\left(t \\right)} + 2 \\frac{d}{d t} R{\\left(t \\right)} \\frac{d}{d t} \\theta{\\left(t \\right)}\\right) \\cos{\\left(\\theta{\\left(t \\right)} \\right)})\\mathbf{\\hat{n}_y}$"
      ],
      "text/plain": [
       "((-R(t)*Derivative(theta(t), t)**2 + Derivative(R(t), (t, 2)))*cos(theta(t)) - (R(t)*Derivative(theta(t), (t, 2)) + 2*Derivative(R(t), t)*Derivative(theta(t), t))*sin(theta(t)))*N.x + ((-R(t)*Derivative(theta(t), t)**2 + Derivative(R(t), (t, 2)))*sin(theta(t)) + (R(t)*Derivative(theta(t), (t, 2)) + 2*Derivative(R(t), t)*Derivative(theta(t), t))*cos(theta(t)))*N.y"
      ]
     },
     "execution_count": 10,
     "metadata": {},
     "output_type": "execute_result"
    }
   ],
   "source": [
    "P.acc(N).express(N)"
   ]
  },
  {
   "cell_type": "code",
   "execution_count": null,
   "id": "183f94a1",
   "metadata": {},
   "outputs": [],
   "source": []
  }
 ],
 "metadata": {
  "kernelspec": {
   "display_name": "Python 3",
   "language": "python",
   "name": "python3"
  },
  "language_info": {
   "codemirror_mode": {
    "name": "ipython",
    "version": 3
   },
   "file_extension": ".py",
   "mimetype": "text/x-python",
   "name": "python",
   "nbconvert_exporter": "python",
   "pygments_lexer": "ipython3",
   "version": "3.8.8"
  }
 },
 "nbformat": 4,
 "nbformat_minor": 5
}
