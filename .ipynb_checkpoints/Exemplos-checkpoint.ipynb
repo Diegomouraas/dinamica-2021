{
 "cells": [
  {
   "cell_type": "markdown",
   "id": "132c9c84",
   "metadata": {},
   "source": [
    "### Ex6:"
   ]
  },
  {
   "cell_type": "code",
   "execution_count": 27,
   "id": "b4501911",
   "metadata": {},
   "outputs": [],
   "source": [
    "import sympy as sy"
   ]
  },
  {
   "cell_type": "code",
   "execution_count": 28,
   "id": "955a8e1b",
   "metadata": {},
   "outputs": [],
   "source": [
    "import sympy.physics.mechanics as me"
   ]
  },
  {
   "cell_type": "markdown",
   "id": "859f612f",
   "metadata": {},
   "source": [
    "primeiro define dos simbolos: neste caso theta e R."
   ]
  },
  {
   "cell_type": "code",
   "execution_count": 29,
   "id": "51012d22",
   "metadata": {},
   "outputs": [],
   "source": [
    "theta = me.dynamicsymbols('theta')\n",
    "R = sy.symbols('R')"
   ]
  },
  {
   "cell_type": "markdown",
   "id": "b6e74812",
   "metadata": {},
   "source": [
    "Cria os referenciais"
   ]
  },
  {
   "cell_type": "code",
   "execution_count": 30,
   "id": "c788b064",
   "metadata": {},
   "outputs": [],
   "source": [
    "N = me.ReferenceFrame('N')\n",
    "A = me.ReferenceFrame('A')"
   ]
  },
  {
   "cell_type": "markdown",
   "id": "b4aec58d",
   "metadata": {},
   "source": [
    "indica a orientação (angulo entre os referenciais)"
   ]
  },
  {
   "cell_type": "code",
   "execution_count": 31,
   "id": "536a0580",
   "metadata": {},
   "outputs": [],
   "source": [
    "A.orient(N, 'Axis', [theta,N.z])"
   ]
  },
  {
   "cell_type": "code",
   "execution_count": 32,
   "id": "195f6d94",
   "metadata": {},
   "outputs": [
    {
     "data": {
      "text/latex": [
       "$\\displaystyle \\frac{d}{d t} \\theta{\\left(t \\right)}\\mathbf{\\hat{n}_z}$"
      ],
      "text/plain": [
       "Derivative(theta(t), t)*N.z"
      ]
     },
     "execution_count": 32,
     "metadata": {},
     "output_type": "execute_result"
    }
   ],
   "source": [
    "A.ang_vel_in(N)"
   ]
  },
  {
   "cell_type": "code",
   "execution_count": 33,
   "id": "3def424b",
   "metadata": {},
   "outputs": [
    {
     "data": {
      "text/latex": [
       "$\\displaystyle \\frac{d^{2}}{d t^{2}} \\theta{\\left(t \\right)}\\mathbf{\\hat{n}_z}$"
      ],
      "text/plain": [
       "Derivative(theta(t), (t, 2))*N.z"
      ]
     },
     "execution_count": 33,
     "metadata": {},
     "output_type": "execute_result"
    }
   ],
   "source": [
    "A.ang_acc_in(N)"
   ]
  },
  {
   "cell_type": "markdown",
   "id": "131c9b95",
   "metadata": {},
   "source": [
    "Cria o ponto O e define a velocidade como 0 no referencial inercial N"
   ]
  },
  {
   "cell_type": "code",
   "execution_count": 34,
   "id": "b062eff7",
   "metadata": {},
   "outputs": [],
   "source": [
    "O = me.Point('O')\n",
    "O.set_vel(N, 0)"
   ]
  },
  {
   "cell_type": "markdown",
   "id": "cf052e4d",
   "metadata": {},
   "source": [
    "Cria o ponto P\n",
    "Define o vetor posição (pPO = vetor posição em relaçao a O)\n",
    "E define que a posição do ponto p é a extremidade de pPO\n",
    "Mostra a posição de P em relação a O"
   ]
  },
  {
   "cell_type": "code",
   "execution_count": 35,
   "id": "118ef4f7",
   "metadata": {},
   "outputs": [
    {
     "data": {
      "text/latex": [
       "$\\displaystyle R\\mathbf{\\hat{a}_x}$"
      ],
      "text/plain": [
       "R*A.x"
      ]
     },
     "execution_count": 35,
     "metadata": {},
     "output_type": "execute_result"
    }
   ],
   "source": [
    "P = me.Point('P')\n",
    "pPO = R*A.x\n",
    "P.set_pos(O, pPO)\n",
    "P.pos_from(O)"
   ]
  },
  {
   "cell_type": "markdown",
   "id": "552ce4ab",
   "metadata": {},
   "source": [
    "define a velocidade do ponto P em relação a N (deriva o vetor posição pPO em N)"
   ]
  },
  {
   "cell_type": "code",
   "execution_count": 36,
   "id": "5f09ca43",
   "metadata": {},
   "outputs": [
    {
     "data": {
      "text/latex": [
       "$\\displaystyle R \\frac{d}{d t} \\theta{\\left(t \\right)}\\mathbf{\\hat{a}_y}$"
      ],
      "text/plain": [
       "R*Derivative(theta(t), t)*A.y"
      ]
     },
     "execution_count": 36,
     "metadata": {},
     "output_type": "execute_result"
    }
   ],
   "source": [
    "P.set_vel(N, pPO.dt(N))\n",
    "P.vel(N)"
   ]
  },
  {
   "cell_type": "markdown",
   "id": "8c171870",
   "metadata": {},
   "source": [
    "Mostra a aceleração do ponto P em relação a N"
   ]
  },
  {
   "cell_type": "code",
   "execution_count": 37,
   "id": "d90dd5a1",
   "metadata": {},
   "outputs": [
    {
     "data": {
      "text/latex": [
       "$\\displaystyle -  R \\left(\\frac{d}{d t} \\theta{\\left(t \\right)}\\right)^{2}\\mathbf{\\hat{a}_x} + R \\frac{d^{2}}{d t^{2}} \\theta{\\left(t \\right)}\\mathbf{\\hat{a}_y}$"
      ],
      "text/plain": [
       "- R*Derivative(theta(t), t)**2*A.x + R*Derivative(theta(t), (t, 2))*A.y"
      ]
     },
     "execution_count": 37,
     "metadata": {},
     "output_type": "execute_result"
    }
   ],
   "source": [
    "P.acc(N)"
   ]
  },
  {
   "cell_type": "markdown",
   "id": "0d6a7e29",
   "metadata": {},
   "source": [
    "Mostrando as equações anteriores no referencial inercial usando o Express"
   ]
  },
  {
   "cell_type": "code",
   "execution_count": 38,
   "id": "e736f6f3",
   "metadata": {},
   "outputs": [
    {
     "data": {
      "text/latex": [
       "$\\displaystyle R \\cos{\\left(\\theta{\\left(t \\right)} \\right)}\\mathbf{\\hat{n}_x} + R \\sin{\\left(\\theta{\\left(t \\right)} \\right)}\\mathbf{\\hat{n}_y}$"
      ],
      "text/plain": [
       "R*cos(theta(t))*N.x + R*sin(theta(t))*N.y"
      ]
     },
     "execution_count": 38,
     "metadata": {},
     "output_type": "execute_result"
    }
   ],
   "source": [
    "pPO.express(N)"
   ]
  },
  {
   "cell_type": "code",
   "execution_count": 40,
   "id": "2ebdbaa2",
   "metadata": {},
   "outputs": [
    {
     "data": {
      "text/latex": [
       "$\\displaystyle -  R \\sin{\\left(\\theta{\\left(t \\right)} \\right)} \\frac{d}{d t} \\theta{\\left(t \\right)}\\mathbf{\\hat{n}_x} + R \\cos{\\left(\\theta{\\left(t \\right)} \\right)} \\frac{d}{d t} \\theta{\\left(t \\right)}\\mathbf{\\hat{n}_y}$"
      ],
      "text/plain": [
       "- R*sin(theta(t))*Derivative(theta(t), t)*N.x + R*cos(theta(t))*Derivative(theta(t), t)*N.y"
      ]
     },
     "execution_count": 40,
     "metadata": {},
     "output_type": "execute_result"
    }
   ],
   "source": [
    "P.vel(N).express(N)"
   ]
  },
  {
   "cell_type": "code",
   "execution_count": 41,
   "id": "8e3c157a",
   "metadata": {},
   "outputs": [
    {
     "data": {
      "text/latex": [
       "$\\displaystyle (- R \\sin{\\left(\\theta{\\left(t \\right)} \\right)} \\frac{d^{2}}{d t^{2}} \\theta{\\left(t \\right)} - R \\cos{\\left(\\theta{\\left(t \\right)} \\right)} \\left(\\frac{d}{d t} \\theta{\\left(t \\right)}\\right)^{2})\\mathbf{\\hat{n}_x} + (- R \\sin{\\left(\\theta{\\left(t \\right)} \\right)} \\left(\\frac{d}{d t} \\theta{\\left(t \\right)}\\right)^{2} + R \\cos{\\left(\\theta{\\left(t \\right)} \\right)} \\frac{d^{2}}{d t^{2}} \\theta{\\left(t \\right)})\\mathbf{\\hat{n}_y}$"
      ],
      "text/plain": [
       "(-R*sin(theta(t))*Derivative(theta(t), (t, 2)) - R*cos(theta(t))*Derivative(theta(t), t)**2)*N.x + (-R*sin(theta(t))*Derivative(theta(t), t)**2 + R*cos(theta(t))*Derivative(theta(t), (t, 2)))*N.y"
      ]
     },
     "execution_count": 41,
     "metadata": {},
     "output_type": "execute_result"
    }
   ],
   "source": [
    "P.acc(N).express(N)"
   ]
  },
  {
   "cell_type": "code",
   "execution_count": null,
   "id": "798d943e",
   "metadata": {},
   "outputs": [],
   "source": []
  }
 ],
 "metadata": {
  "kernelspec": {
   "display_name": "Python 3",
   "language": "python",
   "name": "python3"
  },
  "language_info": {
   "codemirror_mode": {
    "name": "ipython",
    "version": 3
   },
   "file_extension": ".py",
   "mimetype": "text/x-python",
   "name": "python",
   "nbconvert_exporter": "python",
   "pygments_lexer": "ipython3",
   "version": "3.8.8"
  }
 },
 "nbformat": 4,
 "nbformat_minor": 5
}
