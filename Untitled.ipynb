{
 "cells": [
  {
   "cell_type": "markdown",
   "id": "3ec3408c",
   "metadata": {},
   "source": [
    "## Cinematica p1,2"
   ]
  },
  {
   "cell_type": "markdown",
   "id": "296bde15",
   "metadata": {},
   "source": [
    "O movimento retilineo de uma particula sobre um eixo do referencial inercial pode ser descrito como:"
   ]
  },
  {
   "cell_type": "code",
   "execution_count": 51,
   "id": "b96248e4",
   "metadata": {},
   "outputs": [],
   "source": [
    "import sympy as sy"
   ]
  },
  {
   "cell_type": "code",
   "execution_count": 52,
   "id": "f3892d00",
   "metadata": {},
   "outputs": [],
   "source": [
    "import sympy.physics.mechanics as me"
   ]
  },
  {
   "cell_type": "code",
   "execution_count": 53,
   "id": "0a788c1d",
   "metadata": {},
   "outputs": [],
   "source": [
    "N = me.ReferenceFrame('N')"
   ]
  },
  {
   "cell_type": "code",
   "execution_count": 54,
   "id": "9cb1556d",
   "metadata": {},
   "outputs": [
    {
     "data": {
      "text/latex": [
       "$\\displaystyle \\mathbf{\\hat{n}_x}$"
      ],
      "text/plain": [
       "N.x"
      ]
     },
     "execution_count": 54,
     "metadata": {},
     "output_type": "execute_result"
    }
   ],
   "source": [
    "N.x"
   ]
  },
  {
   "cell_type": "code",
   "execution_count": 55,
   "id": "955756f0",
   "metadata": {},
   "outputs": [],
   "source": [
    "x = sy.symbols('x')"
   ]
  },
  {
   "cell_type": "markdown",
   "id": "71b4f567",
   "metadata": {},
   "source": []
  },
  {
   "cell_type": "code",
   "execution_count": 56,
   "id": "73065b61",
   "metadata": {},
   "outputs": [],
   "source": [
    "p = x*N.x"
   ]
  },
  {
   "cell_type": "markdown",
   "id": "df0b717e",
   "metadata": {},
   "source": [
    "------"
   ]
  },
  {
   "cell_type": "markdown",
   "id": "a35abc2b",
   "metadata": {},
   "source": [
    "Ex:"
   ]
  },
  {
   "cell_type": "code",
   "execution_count": 57,
   "id": "73323218",
   "metadata": {},
   "outputs": [],
   "source": [
    "t = sy.symbols('t')"
   ]
  },
  {
   "cell_type": "code",
   "execution_count": 58,
   "id": "8adf2604",
   "metadata": {},
   "outputs": [
    {
     "data": {
      "text/latex": [
       "$\\displaystyle 3 t^{3} + t + 2$"
      ],
      "text/plain": [
       "3*t**3 + t + 2"
      ]
     },
     "execution_count": 58,
     "metadata": {},
     "output_type": "execute_result"
    }
   ],
   "source": [
    "x = 3*t**3+t+2\n",
    "x"
   ]
  },
  {
   "cell_type": "code",
   "execution_count": 59,
   "id": "ea834d35",
   "metadata": {},
   "outputs": [
    {
     "data": {
      "text/latex": [
       "$\\displaystyle 9 t^{2} + 1$"
      ],
      "text/plain": [
       "9*t**2 + 1"
      ]
     },
     "execution_count": 59,
     "metadata": {},
     "output_type": "execute_result"
    }
   ],
   "source": [
    "v = x.diff(t)\n",
    "v"
   ]
  },
  {
   "cell_type": "code",
   "execution_count": 60,
   "id": "0d0f81c4",
   "metadata": {},
   "outputs": [
    {
     "data": {
      "text/latex": [
       "$\\displaystyle 18 t$"
      ],
      "text/plain": [
       "18*t"
      ]
     },
     "execution_count": 60,
     "metadata": {},
     "output_type": "execute_result"
    }
   ],
   "source": [
    "a = v.diff(t)\n",
    "a"
   ]
  },
  {
   "cell_type": "code",
   "execution_count": 61,
   "id": "a615cee2",
   "metadata": {},
   "outputs": [],
   "source": [
    "dic = {t:4}"
   ]
  },
  {
   "cell_type": "code",
   "execution_count": 62,
   "id": "4b87a065",
   "metadata": {},
   "outputs": [
    {
     "data": {
      "text/latex": [
       "$\\displaystyle 198$"
      ],
      "text/plain": [
       "198"
      ]
     },
     "execution_count": 62,
     "metadata": {},
     "output_type": "execute_result"
    }
   ],
   "source": [
    "x.subs(dic)"
   ]
  },
  {
   "cell_type": "code",
   "execution_count": 63,
   "id": "ef42c522",
   "metadata": {},
   "outputs": [
    {
     "data": {
      "text/latex": [
       "$\\displaystyle 145$"
      ],
      "text/plain": [
       "145"
      ]
     },
     "execution_count": 63,
     "metadata": {},
     "output_type": "execute_result"
    }
   ],
   "source": [
    "v.subs(dic)"
   ]
  },
  {
   "cell_type": "code",
   "execution_count": 64,
   "id": "d710aa04",
   "metadata": {},
   "outputs": [
    {
     "data": {
      "text/latex": [
       "$\\displaystyle 72$"
      ],
      "text/plain": [
       "72"
      ]
     },
     "execution_count": 64,
     "metadata": {},
     "output_type": "execute_result"
    }
   ],
   "source": [
    "a.subs(dic)"
   ]
  },
  {
   "cell_type": "code",
   "execution_count": 65,
   "id": "531271d6",
   "metadata": {},
   "outputs": [
    {
     "ename": "NameError",
     "evalue": "name 'plot' is not defined",
     "output_type": "error",
     "traceback": [
      "\u001b[1;31m---------------------------------------------------------------------------\u001b[0m",
      "\u001b[1;31mNameError\u001b[0m                                 Traceback (most recent call last)",
      "\u001b[1;32m<ipython-input-65-6c560ed7885f>\u001b[0m in \u001b[0;36m<module>\u001b[1;34m\u001b[0m\n\u001b[1;32m----> 1\u001b[1;33m \u001b[0mplot1\u001b[0m \u001b[1;33m=\u001b[0m \u001b[0mplot\u001b[0m\u001b[1;33m(\u001b[0m\u001b[0mx\u001b[0m\u001b[1;33m,\u001b[0m\u001b[1;33m(\u001b[0m\u001b[0mt\u001b[0m\u001b[1;33m,\u001b[0m \u001b[1;36m0\u001b[0m\u001b[1;33m,\u001b[0m \u001b[1;36m10\u001b[0m\u001b[1;33m)\u001b[0m\u001b[1;33m)\u001b[0m\u001b[1;33m\u001b[0m\u001b[1;33m\u001b[0m\u001b[0m\n\u001b[0m",
      "\u001b[1;31mNameError\u001b[0m: name 'plot' is not defined"
     ]
    }
   ],
   "source": [
    "plot1 = plot(x,(t, 0, 10))"
   ]
  },
  {
   "cell_type": "markdown",
   "id": "5c357286",
   "metadata": {},
   "source": [
    "--------"
   ]
  },
  {
   "cell_type": "markdown",
   "id": "5cb33ddd",
   "metadata": {},
   "source": [
    "Ex2:"
   ]
  },
  {
   "cell_type": "code",
   "execution_count": null,
   "id": "f1e9ce2c",
   "metadata": {},
   "outputs": [],
   "source": [
    "from sympy.plotting import plot"
   ]
  },
  {
   "cell_type": "code",
   "execution_count": null,
   "id": "380fa43d",
   "metadata": {},
   "outputs": [],
   "source": [
    "s = 8*t**2+2*t\n",
    "s"
   ]
  },
  {
   "cell_type": "code",
   "execution_count": null,
   "id": "d1c1ba13",
   "metadata": {},
   "outputs": [],
   "source": [
    "v = s.diff(t)\n",
    "v"
   ]
  },
  {
   "cell_type": "code",
   "execution_count": null,
   "id": "3401eed1",
   "metadata": {},
   "outputs": [],
   "source": [
    "a = v.diff(t)\n",
    "a"
   ]
  },
  {
   "cell_type": "code",
   "execution_count": null,
   "id": "a46a855c",
   "metadata": {},
   "outputs": [],
   "source": [
    "plots = plot(s)"
   ]
  },
  {
   "cell_type": "code",
   "execution_count": null,
   "id": "f1557a29",
   "metadata": {},
   "outputs": [],
   "source": [
    "plotv = plot(v)"
   ]
  },
  {
   "cell_type": "code",
   "execution_count": null,
   "id": "356332bc",
   "metadata": {},
   "outputs": [],
   "source": [
    "plota = plot(a)"
   ]
  },
  {
   "cell_type": "markdown",
   "id": "14a82ff5",
   "metadata": {},
   "source": [
    "Ex3:"
   ]
  },
  {
   "cell_type": "code",
   "execution_count": null,
   "id": "cd814f82",
   "metadata": {},
   "outputs": [],
   "source": [
    "a = 5*t**3-25*t\n",
    "a"
   ]
  },
  {
   "cell_type": "code",
   "execution_count": null,
   "id": "543125da",
   "metadata": {},
   "outputs": [],
   "source": [
    "v = a.integrate(t)\n",
    "v"
   ]
  },
  {
   "cell_type": "code",
   "execution_count": null,
   "id": "2eef4d87",
   "metadata": {},
   "outputs": [],
   "source": [
    "v += 5\n",
    "v"
   ]
  },
  {
   "cell_type": "code",
   "execution_count": null,
   "id": "8fdfce96",
   "metadata": {},
   "outputs": [],
   "source": [
    "v.subs(t, 0)"
   ]
  },
  {
   "cell_type": "code",
   "execution_count": null,
   "id": "db927098",
   "metadata": {},
   "outputs": [],
   "source": [
    "p = v.integrate(t)\n",
    "p"
   ]
  },
  {
   "cell_type": "code",
   "execution_count": null,
   "id": "a1312a02",
   "metadata": {},
   "outputs": [],
   "source": [
    "p.subs(t,0)"
   ]
  },
  {
   "cell_type": "markdown",
   "id": "35fa8665",
   "metadata": {},
   "source": [
    "------------"
   ]
  },
  {
   "cell_type": "markdown",
   "id": "948ddee1",
   "metadata": {},
   "source": [
    "Ex4"
   ]
  },
  {
   "cell_type": "code",
   "execution_count": null,
   "id": "98d0e3e0",
   "metadata": {},
   "outputs": [],
   "source": [
    "a = 30*t**2-20\n",
    "a"
   ]
  },
  {
   "cell_type": "code",
   "execution_count": null,
   "id": "a880cca2",
   "metadata": {},
   "outputs": [],
   "source": [
    "sy.integrate(a,(t,0,5))"
   ]
  },
  {
   "cell_type": "markdown",
   "id": "42fd0df8",
   "metadata": {},
   "source": [
    "-----------"
   ]
  },
  {
   "cell_type": "markdown",
   "id": "f9c39c00",
   "metadata": {},
   "source": [
    "Aceleração constante:"
   ]
  },
  {
   "cell_type": "code",
   "execution_count": null,
   "id": "42efda81",
   "metadata": {},
   "outputs": [],
   "source": [
    "a = sy.symbols('a')"
   ]
  },
  {
   "cell_type": "code",
   "execution_count": null,
   "id": "0ed59cd7",
   "metadata": {},
   "outputs": [],
   "source": [
    "v = sy.integrate(a, t)\n",
    "v"
   ]
  },
  {
   "cell_type": "code",
   "execution_count": null,
   "id": "f6a00efb",
   "metadata": {},
   "outputs": [],
   "source": [
    "v0 = sy.symbols('v0')"
   ]
  },
  {
   "cell_type": "code",
   "execution_count": null,
   "id": "c51f75ce",
   "metadata": {},
   "outputs": [],
   "source": [
    "v = a.integrate(t) + v0\n",
    "v"
   ]
  },
  {
   "cell_type": "code",
   "execution_count": null,
   "id": "7a9207d7",
   "metadata": {},
   "outputs": [],
   "source": [
    "x0 = sy.symbols('x0')"
   ]
  },
  {
   "cell_type": "code",
   "execution_count": null,
   "id": "4a03546a",
   "metadata": {},
   "outputs": [],
   "source": [
    "x = v.integrate(t) + x0\n",
    "x"
   ]
  },
  {
   "cell_type": "code",
   "execution_count": null,
   "id": "0059725a",
   "metadata": {},
   "outputs": [],
   "source": [
    "v0, x0, vf, xf = sy.symbols('v0 x0 v_f x_f')"
   ]
  },
  {
   "cell_type": "code",
   "execution_count": null,
   "id": "76209f4b",
   "metadata": {},
   "outputs": [],
   "source": [
    "sy.integrate(v)"
   ]
  },
  {
   "cell_type": "code",
   "execution_count": null,
   "id": "a7ec00f8",
   "metadata": {},
   "outputs": [],
   "source": []
  }
 ],
 "metadata": {
  "kernelspec": {
   "display_name": "Python 3",
   "language": "python",
   "name": "python3"
  },
  "language_info": {
   "codemirror_mode": {
    "name": "ipython",
    "version": 3
   },
   "file_extension": ".py",
   "mimetype": "text/x-python",
   "name": "python",
   "nbconvert_exporter": "python",
   "pygments_lexer": "ipython3",
   "version": "3.8.8"
  }
 },
 "nbformat": 4,
 "nbformat_minor": 5
}
