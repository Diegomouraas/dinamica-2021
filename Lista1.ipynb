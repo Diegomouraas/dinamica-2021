{
 "cells": [
  {
   "cell_type": "markdown",
   "id": "88b40cbe",
   "metadata": {},
   "source": [
    "### Questão 1\n",
    "#### A)"
   ]
  },
  {
   "cell_type": "code",
   "execution_count": 16,
   "id": "cff6bf78",
   "metadata": {},
   "outputs": [],
   "source": [
    "import sympy.physics.mechanics as me"
   ]
  },
  {
   "cell_type": "code",
   "execution_count": 17,
   "id": "c7f153e6",
   "metadata": {},
   "outputs": [],
   "source": [
    "N = me.ReferenceFrame('N')"
   ]
  },
  {
   "cell_type": "code",
   "execution_count": 18,
   "id": "db531a1b",
   "metadata": {},
   "outputs": [
    {
     "data": {
      "text/latex": [
       "$\\displaystyle \\mathbf{\\hat{n}_x}$"
      ],
      "text/plain": [
       "N.x"
      ]
     },
     "execution_count": 18,
     "metadata": {},
     "output_type": "execute_result"
    }
   ],
   "source": [
    "N.x"
   ]
  },
  {
   "cell_type": "code",
   "execution_count": 19,
   "id": "e1e4d280",
   "metadata": {},
   "outputs": [
    {
     "data": {
      "text/latex": [
       "$\\displaystyle \\mathbf{\\hat{n}_y}$"
      ],
      "text/plain": [
       "N.y"
      ]
     },
     "execution_count": 19,
     "metadata": {},
     "output_type": "execute_result"
    }
   ],
   "source": [
    "N.y"
   ]
  },
  {
   "cell_type": "code",
   "execution_count": 20,
   "id": "06d4b2e3",
   "metadata": {},
   "outputs": [
    {
     "data": {
      "text/latex": [
       "$\\displaystyle \\mathbf{\\hat{n}_z}$"
      ],
      "text/plain": [
       "N.z"
      ]
     },
     "execution_count": 20,
     "metadata": {},
     "output_type": "execute_result"
    }
   ],
   "source": [
    "N.z"
   ]
  },
  {
   "cell_type": "code",
   "execution_count": 25,
   "id": "62b0225c",
   "metadata": {},
   "outputs": [],
   "source": [
    "a = 5*N.x + 7*N.y + 3*N.z\n",
    "b = 4*N.x - 3*N.y + 1*N.z"
   ]
  },
  {
   "cell_type": "code",
   "execution_count": 26,
   "id": "38fdc468",
   "metadata": {},
   "outputs": [
    {
     "data": {
      "text/latex": [
       "$\\displaystyle 9\\mathbf{\\hat{n}_x} + 4\\mathbf{\\hat{n}_y} + 4\\mathbf{\\hat{n}_z}$"
      ],
      "text/plain": [
       "9*N.x + 4*N.y + 4*N.z"
      ]
     },
     "execution_count": 26,
     "metadata": {},
     "output_type": "execute_result"
    }
   ],
   "source": [
    "a + b"
   ]
  },
  {
   "cell_type": "markdown",
   "id": "b523a417",
   "metadata": {},
   "source": [
    "#### b)"
   ]
  },
  {
   "cell_type": "markdown",
   "id": "05e5b15a",
   "metadata": {},
   "source": [
    "Considerando os vetores anteriores.."
   ]
  },
  {
   "cell_type": "code",
   "execution_count": 28,
   "id": "3ec603f4",
   "metadata": {},
   "outputs": [
    {
     "data": {
      "text/latex": [
       "$\\displaystyle 2$"
      ],
      "text/plain": [
       "2"
      ]
     },
     "execution_count": 28,
     "metadata": {},
     "output_type": "execute_result"
    }
   ],
   "source": [
    "me.dot(a, b)"
   ]
  },
  {
   "cell_type": "markdown",
   "id": "baca6e4e",
   "metadata": {},
   "source": [
    "#### c)"
   ]
  },
  {
   "cell_type": "code",
   "execution_count": 29,
   "id": "73224b0f",
   "metadata": {},
   "outputs": [
    {
     "data": {
      "text/latex": [
       "$\\displaystyle 16\\mathbf{\\hat{n}_x} + 7\\mathbf{\\hat{n}_y} - 43\\mathbf{\\hat{n}_z}$"
      ],
      "text/plain": [
       "16*N.x + 7*N.y - 43*N.z"
      ]
     },
     "execution_count": 29,
     "metadata": {},
     "output_type": "execute_result"
    }
   ],
   "source": [
    "me.cross(a, b)"
   ]
  },
  {
   "cell_type": "markdown",
   "id": "bfab104c",
   "metadata": {},
   "source": [
    "#### d)"
   ]
  },
  {
   "cell_type": "code",
   "execution_count": 30,
   "id": "19a194b1",
   "metadata": {},
   "outputs": [],
   "source": [
    "c = 11*N.x - 5*N.y - 3*N.z"
   ]
  },
  {
   "cell_type": "code",
   "execution_count": 31,
   "id": "11864dc3",
   "metadata": {},
   "outputs": [
    {
     "data": {
      "text/latex": [
       "$\\displaystyle 22\\mathbf{\\hat{n}_x} - 23\\mathbf{\\hat{n}_y} + 17\\mathbf{\\hat{n}_z}$"
      ],
      "text/plain": [
       "22*N.x - 23*N.y + 17*N.z"
      ]
     },
     "execution_count": 31,
     "metadata": {},
     "output_type": "execute_result"
    }
   ],
   "source": [
    "a.cross(me.cross(b, c))"
   ]
  },
  {
   "cell_type": "markdown",
   "id": "59a79e9f",
   "metadata": {},
   "source": [
    "#### e)"
   ]
  },
  {
   "cell_type": "code",
   "execution_count": 32,
   "id": "a8552a87",
   "metadata": {},
   "outputs": [
    {
     "data": {
      "text/latex": [
       "$\\displaystyle 270$"
      ],
      "text/plain": [
       "270"
      ]
     },
     "execution_count": 32,
     "metadata": {},
     "output_type": "execute_result"
    }
   ],
   "source": [
    "a.dot(me.cross(b, c))"
   ]
  },
  {
   "cell_type": "markdown",
   "id": "42e7dfa5",
   "metadata": {},
   "source": [
    "f)"
   ]
  },
  {
   "cell_type": "code",
   "execution_count": 33,
   "id": "4889369a",
   "metadata": {},
   "outputs": [
    {
     "data": {
      "text/latex": [
       "$\\displaystyle 12$"
      ],
      "text/plain": [
       "12"
      ]
     },
     "execution_count": 33,
     "metadata": {},
     "output_type": "execute_result"
    }
   ],
   "source": [
    "me.dot(2*a, 3*b)"
   ]
  },
  {
   "cell_type": "markdown",
   "id": "d63caf95",
   "metadata": {},
   "source": [
    "g)"
   ]
  },
  {
   "cell_type": "code",
   "execution_count": 34,
   "id": "f6029214",
   "metadata": {},
   "outputs": [
    {
     "data": {
      "text/latex": [
       "$\\displaystyle 240\\mathbf{\\hat{n}_x} + 105\\mathbf{\\hat{n}_y} - 645\\mathbf{\\hat{n}_z}$"
      ],
      "text/plain": [
       "240*N.x + 105*N.y - 645*N.z"
      ]
     },
     "execution_count": 34,
     "metadata": {},
     "output_type": "execute_result"
    }
   ],
   "source": [
    "me.cross(3*a, 5*b)"
   ]
  },
  {
   "cell_type": "markdown",
   "id": "ea1051d2",
   "metadata": {},
   "source": [
    "----------"
   ]
  },
  {
   "cell_type": "markdown",
   "id": "8a0d946b",
   "metadata": {},
   "source": [
    "### Questão 2"
   ]
  },
  {
   "cell_type": "code",
   "execution_count": 37,
   "id": "027ae0e2",
   "metadata": {},
   "outputs": [],
   "source": [
    "r1 = a"
   ]
  },
  {
   "cell_type": "code",
   "execution_count": 38,
   "id": "79672ed0",
   "metadata": {},
   "outputs": [
    {
     "data": {
      "text/latex": [
       "$\\displaystyle \\sqrt{83}$"
      ],
      "text/plain": [
       "sqrt(83)"
      ]
     },
     "execution_count": 38,
     "metadata": {},
     "output_type": "execute_result"
    }
   ],
   "source": [
    "r1.magnitude()"
   ]
  },
  {
   "cell_type": "markdown",
   "id": "34f94cc6",
   "metadata": {},
   "source": [
    "--------"
   ]
  },
  {
   "cell_type": "markdown",
   "id": "7e3921e9",
   "metadata": {},
   "source": [
    "### Questão 3"
   ]
  },
  {
   "cell_type": "markdown",
   "id": "5a66075d",
   "metadata": {},
   "source": [
    "Considerando o vetor r1 anterior.."
   ]
  },
  {
   "cell_type": "code",
   "execution_count": 74,
   "id": "0edb8551",
   "metadata": {},
   "outputs": [],
   "source": [
    "import numpy as np"
   ]
  },
  {
   "cell_type": "code",
   "execution_count": 75,
   "id": "a764ac5b",
   "metadata": {},
   "outputs": [],
   "source": [
    "r2 = b"
   ]
  },
  {
   "cell_type": "code",
   "execution_count": 102,
   "id": "fdec12c5",
   "metadata": {},
   "outputs": [],
   "source": [
    "t = me.dot(r1, r2)/(r1.magnitude() * r2.magnitude())"
   ]
  },
  {
   "cell_type": "code",
   "execution_count": 103,
   "id": "2a393004",
   "metadata": {},
   "outputs": [
    {
     "data": {
      "text/latex": [
       "$\\displaystyle \\frac{\\sqrt{2158}}{1079}$"
      ],
      "text/plain": [
       "sqrt(2158)/1079"
      ]
     },
     "execution_count": 103,
     "metadata": {},
     "output_type": "execute_result"
    }
   ],
   "source": [
    "t"
   ]
  },
  {
   "cell_type": "code",
   "execution_count": 104,
   "id": "51594082",
   "metadata": {},
   "outputs": [],
   "source": [
    "import sympy as sy"
   ]
  },
  {
   "cell_type": "markdown",
   "id": "54059fde",
   "metadata": {},
   "source": [
    "Após uma pequena pesquisa, constatei que a função arccos() não aceita objetos com qualquer tipo de dado, portanto, converti o valor do objeto para o tipo float."
   ]
  },
  {
   "cell_type": "code",
   "execution_count": 111,
   "id": "0865d3fc",
   "metadata": {},
   "outputs": [
    {
     "data": {
      "text/latex": [
       "$\\displaystyle 4\\mathbf{\\hat{n}_x} - 3\\mathbf{\\hat{n}_y} + \\mathbf{\\hat{n}_z}$"
      ],
      "text/plain": [
       "4*N.x - 3*N.y + N.z"
      ]
     },
     "execution_count": 111,
     "metadata": {},
     "output_type": "execute_result"
    }
   ],
   "source": [
    "r2"
   ]
  },
  {
   "cell_type": "code",
   "execution_count": 105,
   "id": "e01cfda6",
   "metadata": {},
   "outputs": [
    {
     "data": {
      "text/latex": [
       "$\\displaystyle \\frac{\\sqrt{2158}}{1079}$"
      ],
      "text/plain": [
       "sqrt(2158)/1079"
      ]
     },
     "execution_count": 105,
     "metadata": {},
     "output_type": "execute_result"
    }
   ],
   "source": [
    "t"
   ]
  },
  {
   "cell_type": "code",
   "execution_count": 106,
   "id": "79ade1ca",
   "metadata": {},
   "outputs": [],
   "source": [
    "import math as mt"
   ]
  },
  {
   "cell_type": "code",
   "execution_count": 107,
   "id": "75a82f75",
   "metadata": {},
   "outputs": [],
   "source": [
    "t= mt.sqrt(t)"
   ]
  },
  {
   "cell_type": "code",
   "execution_count": 108,
   "id": "69d91031",
   "metadata": {},
   "outputs": [
    {
     "data": {
      "text/plain": [
       "0.2074923730910651"
      ]
     },
     "execution_count": 108,
     "metadata": {},
     "output_type": "execute_result"
    }
   ],
   "source": [
    "t"
   ]
  },
  {
   "cell_type": "code",
   "execution_count": 109,
   "id": "38f776d6",
   "metadata": {},
   "outputs": [
    {
     "data": {
      "text/plain": [
       "0.04305308489096176"
      ]
     },
     "execution_count": 109,
     "metadata": {},
     "output_type": "execute_result"
    }
   ],
   "source": [
    "t*t\n"
   ]
  },
  {
   "cell_type": "code",
   "execution_count": 110,
   "id": "b94188e7",
   "metadata": {},
   "outputs": [
    {
     "data": {
      "text/plain": [
       "1.52772993049356"
      ]
     },
     "execution_count": 110,
     "metadata": {},
     "output_type": "execute_result"
    }
   ],
   "source": [
    "np.arccos(t*t)"
   ]
  },
  {
   "cell_type": "code",
   "execution_count": null,
   "id": "469246ff",
   "metadata": {},
   "outputs": [],
   "source": []
  }
 ],
 "metadata": {
  "kernelspec": {
   "display_name": "Python 3",
   "language": "python",
   "name": "python3"
  },
  "language_info": {
   "codemirror_mode": {
    "name": "ipython",
    "version": 3
   },
   "file_extension": ".py",
   "mimetype": "text/x-python",
   "name": "python",
   "nbconvert_exporter": "python",
   "pygments_lexer": "ipython3",
   "version": "3.8.8"
  }
 },
 "nbformat": 4,
 "nbformat_minor": 5
}
