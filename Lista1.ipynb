{
 "cells": [
  {
   "cell_type": "markdown",
   "id": "88b40cbe",
   "metadata": {},
   "source": [
    "### Questão 1\n",
    "#### A)"
   ]
  },
  {
   "cell_type": "code",
   "execution_count": 6,
   "id": "cff6bf78",
   "metadata": {},
   "outputs": [],
   "source": [
    "import sympy.physics.mechanics as me"
   ]
  },
  {
   "cell_type": "code",
   "execution_count": 7,
   "id": "c7f153e6",
   "metadata": {},
   "outputs": [],
   "source": [
    "N = me.ReferenceFrame('N')"
   ]
  },
  {
   "cell_type": "code",
   "execution_count": 8,
   "id": "db531a1b",
   "metadata": {},
   "outputs": [
    {
     "data": {
      "text/latex": [
       "$\\displaystyle \\mathbf{\\hat{n}_x}$"
      ],
      "text/plain": [
       "N.x"
      ]
     },
     "execution_count": 8,
     "metadata": {},
     "output_type": "execute_result"
    }
   ],
   "source": [
    "N.x"
   ]
  },
  {
   "cell_type": "code",
   "execution_count": 9,
   "id": "e1e4d280",
   "metadata": {},
   "outputs": [
    {
     "data": {
      "text/latex": [
       "$\\displaystyle \\mathbf{\\hat{n}_y}$"
      ],
      "text/plain": [
       "N.y"
      ]
     },
     "execution_count": 9,
     "metadata": {},
     "output_type": "execute_result"
    }
   ],
   "source": [
    "N.y"
   ]
  },
  {
   "cell_type": "code",
   "execution_count": 10,
   "id": "06d4b2e3",
   "metadata": {},
   "outputs": [
    {
     "data": {
      "text/latex": [
       "$\\displaystyle \\mathbf{\\hat{n}_z}$"
      ],
      "text/plain": [
       "N.z"
      ]
     },
     "execution_count": 10,
     "metadata": {},
     "output_type": "execute_result"
    }
   ],
   "source": [
    "N.z"
   ]
  },
  {
   "cell_type": "code",
   "execution_count": 11,
   "id": "62b0225c",
   "metadata": {},
   "outputs": [],
   "source": [
    "a = 5*N.x + 7*N.y + 3*N.z\n",
    "b = 4*N.x - 3*N.y + 1*N.z"
   ]
  },
  {
   "cell_type": "code",
   "execution_count": 12,
   "id": "38fdc468",
   "metadata": {},
   "outputs": [
    {
     "data": {
      "text/latex": [
       "$\\displaystyle 9\\mathbf{\\hat{n}_x} + 4\\mathbf{\\hat{n}_y} + 4\\mathbf{\\hat{n}_z}$"
      ],
      "text/plain": [
       "9*N.x + 4*N.y + 4*N.z"
      ]
     },
     "execution_count": 12,
     "metadata": {},
     "output_type": "execute_result"
    }
   ],
   "source": [
    "a + b"
   ]
  },
  {
   "cell_type": "markdown",
   "id": "b523a417",
   "metadata": {},
   "source": [
    "#### b)"
   ]
  },
  {
   "cell_type": "markdown",
   "id": "05e5b15a",
   "metadata": {},
   "source": [
    "Considerando os vetores anteriores.."
   ]
  },
  {
   "cell_type": "code",
   "execution_count": 13,
   "id": "3ec603f4",
   "metadata": {},
   "outputs": [
    {
     "data": {
      "text/latex": [
       "$\\displaystyle 2$"
      ],
      "text/plain": [
       "2"
      ]
     },
     "execution_count": 13,
     "metadata": {},
     "output_type": "execute_result"
    }
   ],
   "source": [
    "me.dot(a, b)"
   ]
  },
  {
   "cell_type": "markdown",
   "id": "baca6e4e",
   "metadata": {},
   "source": [
    "#### c)"
   ]
  },
  {
   "cell_type": "code",
   "execution_count": 14,
   "id": "73224b0f",
   "metadata": {},
   "outputs": [
    {
     "data": {
      "text/latex": [
       "$\\displaystyle 16\\mathbf{\\hat{n}_x} + 7\\mathbf{\\hat{n}_y} - 43\\mathbf{\\hat{n}_z}$"
      ],
      "text/plain": [
       "16*N.x + 7*N.y - 43*N.z"
      ]
     },
     "execution_count": 14,
     "metadata": {},
     "output_type": "execute_result"
    }
   ],
   "source": [
    "me.cross(a, b)"
   ]
  },
  {
   "cell_type": "markdown",
   "id": "bfab104c",
   "metadata": {},
   "source": [
    "#### d)"
   ]
  },
  {
   "cell_type": "code",
   "execution_count": 15,
   "id": "19a194b1",
   "metadata": {},
   "outputs": [],
   "source": [
    "c = 11*N.x - 5*N.y - 3*N.z"
   ]
  },
  {
   "cell_type": "code",
   "execution_count": 16,
   "id": "11864dc3",
   "metadata": {},
   "outputs": [
    {
     "data": {
      "text/latex": [
       "$\\displaystyle 22\\mathbf{\\hat{n}_x} - 23\\mathbf{\\hat{n}_y} + 17\\mathbf{\\hat{n}_z}$"
      ],
      "text/plain": [
       "22*N.x - 23*N.y + 17*N.z"
      ]
     },
     "execution_count": 16,
     "metadata": {},
     "output_type": "execute_result"
    }
   ],
   "source": [
    "a.cross(me.cross(b, c))"
   ]
  },
  {
   "cell_type": "markdown",
   "id": "59a79e9f",
   "metadata": {},
   "source": [
    "#### e)"
   ]
  },
  {
   "cell_type": "code",
   "execution_count": 17,
   "id": "a8552a87",
   "metadata": {},
   "outputs": [
    {
     "data": {
      "text/latex": [
       "$\\displaystyle 270$"
      ],
      "text/plain": [
       "270"
      ]
     },
     "execution_count": 17,
     "metadata": {},
     "output_type": "execute_result"
    }
   ],
   "source": [
    "a.dot(me.cross(b, c))"
   ]
  },
  {
   "cell_type": "markdown",
   "id": "42e7dfa5",
   "metadata": {},
   "source": [
    "f)"
   ]
  },
  {
   "cell_type": "code",
   "execution_count": 18,
   "id": "4889369a",
   "metadata": {},
   "outputs": [
    {
     "data": {
      "text/latex": [
       "$\\displaystyle 12$"
      ],
      "text/plain": [
       "12"
      ]
     },
     "execution_count": 18,
     "metadata": {},
     "output_type": "execute_result"
    }
   ],
   "source": [
    "me.dot(2*a, 3*b)"
   ]
  },
  {
   "cell_type": "markdown",
   "id": "d63caf95",
   "metadata": {},
   "source": [
    "g)"
   ]
  },
  {
   "cell_type": "code",
   "execution_count": 19,
   "id": "f6029214",
   "metadata": {},
   "outputs": [
    {
     "data": {
      "text/latex": [
       "$\\displaystyle 240\\mathbf{\\hat{n}_x} + 105\\mathbf{\\hat{n}_y} - 645\\mathbf{\\hat{n}_z}$"
      ],
      "text/plain": [
       "240*N.x + 105*N.y - 645*N.z"
      ]
     },
     "execution_count": 19,
     "metadata": {},
     "output_type": "execute_result"
    }
   ],
   "source": [
    "me.cross(3*a, 5*b)"
   ]
  },
  {
   "cell_type": "markdown",
   "id": "ea1051d2",
   "metadata": {},
   "source": [
    "----------"
   ]
  },
  {
   "cell_type": "markdown",
   "id": "8a0d946b",
   "metadata": {},
   "source": [
    "### Questão 2"
   ]
  },
  {
   "cell_type": "code",
   "execution_count": 20,
   "id": "027ae0e2",
   "metadata": {},
   "outputs": [],
   "source": [
    "r1 = a"
   ]
  },
  {
   "cell_type": "code",
   "execution_count": 21,
   "id": "79672ed0",
   "metadata": {},
   "outputs": [
    {
     "data": {
      "text/latex": [
       "$\\displaystyle \\sqrt{83}$"
      ],
      "text/plain": [
       "sqrt(83)"
      ]
     },
     "execution_count": 21,
     "metadata": {},
     "output_type": "execute_result"
    }
   ],
   "source": [
    "r1.magnitude()"
   ]
  },
  {
   "cell_type": "markdown",
   "id": "34f94cc6",
   "metadata": {},
   "source": [
    "--------"
   ]
  },
  {
   "cell_type": "markdown",
   "id": "7e3921e9",
   "metadata": {},
   "source": [
    "### Questão 3"
   ]
  },
  {
   "cell_type": "markdown",
   "id": "5a66075d",
   "metadata": {},
   "source": [
    "Considerando o vetor r1 anterior.."
   ]
  },
  {
   "cell_type": "code",
   "execution_count": 34,
   "id": "a764ac5b",
   "metadata": {},
   "outputs": [],
   "source": [
    "r2 = b"
   ]
  },
  {
   "cell_type": "code",
   "execution_count": 36,
   "id": "fdec12c5",
   "metadata": {},
   "outputs": [
    {
     "data": {
      "text/latex": [
       "$\\displaystyle 1.52772993049356$"
      ],
      "text/plain": [
       "1.52772993049356"
      ]
     },
     "execution_count": 36,
     "metadata": {},
     "output_type": "execute_result"
    }
   ],
   "source": [
    "sy.acos(me.dot(r1, r2)/(r1.magnitude() * r2.magnitude())).evalf()"
   ]
  },
  {
   "cell_type": "markdown",
   "id": "c8a20d73",
   "metadata": {},
   "source": []
  }
 ],
 "metadata": {
  "kernelspec": {
   "display_name": "Python 3",
   "language": "python",
   "name": "python3"
  },
  "language_info": {
   "codemirror_mode": {
    "name": "ipython",
    "version": 3
   },
   "file_extension": ".py",
   "mimetype": "text/x-python",
   "name": "python",
   "nbconvert_exporter": "python",
   "pygments_lexer": "ipython3",
   "version": "3.8.8"
  }
 },
 "nbformat": 4,
 "nbformat_minor": 5
}
